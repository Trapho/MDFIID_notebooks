{
 "cells": [
  {
   "cell_type": "code",
   "execution_count": 1,
   "id": "1ee01d6d",
   "metadata": {},
   "outputs": [],
   "source": [
    "from pyopenms import *\n",
    "import os\n",
    "import pandas as pd\n",
    "import numpy as np\n",
    "import re\n",
    "import matplotlib.pyplot as plt"
   ]
  },
  {
   "cell_type": "code",
   "execution_count": 2,
   "id": "7000bfb8",
   "metadata": {},
   "outputs": [],
   "source": [
    "def minutes_to_secs(input):\n",
    "    output = input.split(\"m\")\n",
    "    output[1] = output[1].replace(\"s\", \"\")\n",
    "    return float(output[0]) * 60 + float(output[1])\n",
    "   \n",
    "def read_time(file_path, different_tools):\n",
    "    out = np.zeros(different_tools)\n",
    "    count = np.zeros(different_tools)\n",
    "    with open(file_path, 'r') as file:\n",
    "        tool = 0\n",
    "        \n",
    "        while content := file.readline():\n",
    "            content.strip()\n",
    "            if (content[0:4] == \"real\"):\n",
    "                out[tool] += minutes_to_secs(content[4:])\n",
    "                count[tool] += 1\n",
    "                tool += 1\n",
    "                if tool >= different_tools:\n",
    "                    tool = 0\n",
    "          \n",
    "    for i in range(len(out)):\n",
    "        out[i] = out[i]/count[i]\n",
    "    return out"
   ]
  },
  {
   "cell_type": "code",
   "execution_count": 11,
   "id": "b16071ac",
   "metadata": {},
   "outputs": [],
   "source": [
    "def read_time2(file_path):\n",
    "    tools = []\n",
    "    df = pd.DataFrame({\"tol\" : [], \"depth\":[], \"window\":[], \"time\":[]})\n",
    "    with open(file_path, 'r') as file:\n",
    "        entry = False\n",
    "        while content := file.readline():\n",
    "            if content[0] == \">\":\n",
    "                s_content = content.strip().split(\",\")\n",
    "                t = float(s_content[2])\n",
    "                ds= int(s_content[0][1])\n",
    "                db= float(s_content[1])\n",
    "                entry = True\n",
    "            if entry and content[0:4] == \"real\":\n",
    "                time = minutes_to_secs(content.strip()[4:])\n",
    "                add_df = pd.DataFrame({\"tol\" : [t], \"depth\":[ds], \"window\":[db], \"time\":[time]})\n",
    "                df = pd.concat([df, add_df])\n",
    "                entry = False\n",
    "    return df\n",
    "                \n",
    "                "
   ]
  },
  {
   "cell_type": "code",
   "execution_count": 12,
   "id": "717db663",
   "metadata": {},
   "outputs": [],
   "source": [
    "df = read_time2(\"MDFIID_time_measurement.txt\")"
   ]
  },
  {
   "cell_type": "code",
   "execution_count": 13,
   "id": "a5dd5980",
   "metadata": {},
   "outputs": [
    {
     "data": {
      "text/html": [
       "<div>\n",
       "<style scoped>\n",
       "    .dataframe tbody tr th:only-of-type {\n",
       "        vertical-align: middle;\n",
       "    }\n",
       "\n",
       "    .dataframe tbody tr th {\n",
       "        vertical-align: top;\n",
       "    }\n",
       "\n",
       "    .dataframe thead th {\n",
       "        text-align: right;\n",
       "    }\n",
       "</style>\n",
       "<table border=\"1\" class=\"dataframe\">\n",
       "  <thead>\n",
       "    <tr style=\"text-align: right;\">\n",
       "      <th></th>\n",
       "      <th>tol</th>\n",
       "      <th>depth</th>\n",
       "      <th>window</th>\n",
       "      <th>time</th>\n",
       "    </tr>\n",
       "  </thead>\n",
       "  <tbody>\n",
       "    <tr>\n",
       "      <th>0</th>\n",
       "      <td>0.025</td>\n",
       "      <td>1.0</td>\n",
       "      <td>0.0</td>\n",
       "      <td>9.637</td>\n",
       "    </tr>\n",
       "    <tr>\n",
       "      <th>0</th>\n",
       "      <td>0.050</td>\n",
       "      <td>1.0</td>\n",
       "      <td>0.0</td>\n",
       "      <td>10.046</td>\n",
       "    </tr>\n",
       "    <tr>\n",
       "      <th>0</th>\n",
       "      <td>0.075</td>\n",
       "      <td>1.0</td>\n",
       "      <td>0.0</td>\n",
       "      <td>10.570</td>\n",
       "    </tr>\n",
       "    <tr>\n",
       "      <th>0</th>\n",
       "      <td>0.100</td>\n",
       "      <td>1.0</td>\n",
       "      <td>0.0</td>\n",
       "      <td>10.681</td>\n",
       "    </tr>\n",
       "    <tr>\n",
       "      <th>0</th>\n",
       "      <td>0.125</td>\n",
       "      <td>1.0</td>\n",
       "      <td>0.0</td>\n",
       "      <td>10.448</td>\n",
       "    </tr>\n",
       "    <tr>\n",
       "      <th>...</th>\n",
       "      <td>...</td>\n",
       "      <td>...</td>\n",
       "      <td>...</td>\n",
       "      <td>...</td>\n",
       "    </tr>\n",
       "    <tr>\n",
       "      <th>0</th>\n",
       "      <td>0.100</td>\n",
       "      <td>3.0</td>\n",
       "      <td>500.0</td>\n",
       "      <td>13.415</td>\n",
       "    </tr>\n",
       "    <tr>\n",
       "      <th>0</th>\n",
       "      <td>0.125</td>\n",
       "      <td>3.0</td>\n",
       "      <td>500.0</td>\n",
       "      <td>13.694</td>\n",
       "    </tr>\n",
       "    <tr>\n",
       "      <th>0</th>\n",
       "      <td>0.150</td>\n",
       "      <td>3.0</td>\n",
       "      <td>500.0</td>\n",
       "      <td>13.906</td>\n",
       "    </tr>\n",
       "    <tr>\n",
       "      <th>0</th>\n",
       "      <td>0.175</td>\n",
       "      <td>3.0</td>\n",
       "      <td>500.0</td>\n",
       "      <td>13.723</td>\n",
       "    </tr>\n",
       "    <tr>\n",
       "      <th>0</th>\n",
       "      <td>0.200</td>\n",
       "      <td>3.0</td>\n",
       "      <td>500.0</td>\n",
       "      <td>13.744</td>\n",
       "    </tr>\n",
       "  </tbody>\n",
       "</table>\n",
       "<p>144 rows × 4 columns</p>\n",
       "</div>"
      ],
      "text/plain": [
       "      tol  depth  window    time\n",
       "0   0.025    1.0     0.0   9.637\n",
       "0   0.050    1.0     0.0  10.046\n",
       "0   0.075    1.0     0.0  10.570\n",
       "0   0.100    1.0     0.0  10.681\n",
       "0   0.125    1.0     0.0  10.448\n",
       "..    ...    ...     ...     ...\n",
       "0   0.100    3.0   500.0  13.415\n",
       "0   0.125    3.0   500.0  13.694\n",
       "0   0.150    3.0   500.0  13.906\n",
       "0   0.175    3.0   500.0  13.723\n",
       "0   0.200    3.0   500.0  13.744\n",
       "\n",
       "[144 rows x 4 columns]"
      ]
     },
     "execution_count": 13,
     "metadata": {},
     "output_type": "execute_result"
    }
   ],
   "source": [
    "df\n"
   ]
  },
  {
   "cell_type": "code",
   "execution_count": 24,
   "id": "7ec4414e",
   "metadata": {},
   "outputs": [],
   "source": [
    "df_area = df[(df[\"tol\"]==0.200)|(df[\"tol\"]==0.025)]"
   ]
  },
  {
   "cell_type": "code",
   "execution_count": 44,
   "id": "e48eb203",
   "metadata": {},
   "outputs": [
    {
     "data": {
      "image/png": "[encoded data removed]",
      "text/plain": [
       "<Figure size 640x480 with 1 Axes>"
      ]
     },
     "metadata": {},
     "output_type": "display_data"
    }
   ],
   "source": [
    "color_map = {1.0: \"#CCCCCC\", 2.0:\"#6E8DAB\", 3.0:\"#104E8B\"}\n",
    "for d in df_area[\"depth\"].unique():\n",
    "    df_t = df_area[df_area[\"depth\"]==d]\n",
    "    df_min=df_t[df_t[\"tol\"] == 0.025]\n",
    "    plt.plot(df_min[\"window\"], df_min[\"time\"], color = color_map[d])\n",
    "    df_max=df_t[df_t[\"tol\"] == 0.200]\n",
    "    plt.plot(df_max[\"window\"], df_max[\"time\"], color = color_map[d])\n",
    "    plt.fill_between(df_min[\"window\"], df_min[\"time\"], df_max[\"time\"], color = color_map[d], alpha = 0.5, label = int(d))\n",
    "    plt.xlabel('Fragment mass window size [\\u00B1 Da]', size = 14)\n",
    "    plt.ylabel('Runtime [s]')\n",
    "    plt.legend(title = \"depth\", title_fontsize = 14, fontsize = 14)\n",
    "    plt.savefig(\"MDFIID_runtime-png\", bbox_inches = 'tight', dpi = 500)"
   ]
  }
 ],
 "metadata": {
  "kernelspec": {
   "display_name": "Python 3 (ipykernel)",
   "language": "python",
   "name": "python3"
  },
  "language_info": {
   "codemirror_mode": {
    "name": "ipython",
    "version": 3
   },
   "file_extension": ".py",
   "mimetype": "text/x-python",
   "name": "python",
   "nbconvert_exporter": "python",
   "pygments_lexer": "ipython3",
   "version": "3.10.8"
  }
 },
 "nbformat": 4,
 "nbformat_minor": 5
}
