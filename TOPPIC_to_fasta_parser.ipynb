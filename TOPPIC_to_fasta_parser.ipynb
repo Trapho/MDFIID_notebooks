{
 "cells": [
  {
   "cell_type": "code",
   "execution_count": 1,
   "id": "222a307d",
   "metadata": {},
   "outputs": [],
   "source": [
    "import numpy as np\n",
    "import pandas as pd\n",
    "import os\n",
    "from Bio import SeqIO"
   ]
  },
  {
   "cell_type": "code",
   "execution_count": 2,
   "id": "a6da986c",
   "metadata": {},
   "outputs": [],
   "source": [
    "def parse_fasta(file_path):\n",
    "    sequences = []\n",
    "    with open(file_path, 'r') as fasta_file:\n",
    "        for record in SeqIO.parse(fasta_file, 'fasta'):\n",
    "            sequence_id = record.id\n",
    "            sequence = str(record.seq)\n",
    "            sequences.append((sequence_id, sequence))\n",
    "    return sequences\n",
    "\n",
    "def parse(file_path_toppic, file_path_fasta, file_path_out):\n",
    "    #first get all fasta entries:\n",
    "    sequences = parse_fasta(file_path_fasta)\n",
    "    out_sequences = [] \n",
    "    \n",
    "    toppic = pd.read_csv(file_path_toppic, skiprows = range(26), sep = \"\\t\")\n",
    "    \n",
    "    \n",
    "    for i, row in toppic.iterrows():\n",
    "        for sequ in sequences:\n",
    "            if sequ[0] == row[\"Protein accession\"]:\n",
    "                not_found = True\n",
    "                for s in out_sequences:\n",
    "                    if s[0] == (sequ[0] + \"_\" + str(row[\"First residue\"]) + \"_\" + str(row[\"Last residue\"])):\n",
    "                        not_found = False\n",
    "                        break\n",
    "                if not_found:         \n",
    "                    out_sequences.append((sequ[0] + \"_\" + str(row[\"First residue\"]) + \"_\" + str(row[\"Last residue\"]), sequ[1][int(row[\"First residue\"]) - 1:int(row[\"Last residue\"])]))\n",
    "                break\n",
    "    \n",
    "    with open(file_path_out, 'w') as out:\n",
    "        for o_sequ in out_sequences:\n",
    "            out.write(\">\" + o_sequ[0] + \"|truncated\\n\" + o_sequ[1] + \"\\n\")\n",
    "            \n",
    "    \n",
    "      \n",
    "        "
   ]
  },
  {
   "cell_type": "code",
   "execution_count": 3,
   "id": "c4b97dec",
   "metadata": {},
   "outputs": [],
   "source": [
    "sequences = parse_fasta(\"top_down_data/uniprot-mg1655-filtered-reviewed_yes.fasta\")\n",
    "top = parse(\"top_down_data/Eclip_1476_MB_ms2_toppic_prsm_single.tsv\", \"top_down_data/uniprot-mg1655-filtered-reviewed_yes.fasta\", \"top_down_data/truncated.fasta\")\n",
    "\n"
   ]
  }
 ],
 "metadata": {
  "kernelspec": {
   "display_name": "Python 3 (ipykernel)",
   "language": "python",
   "name": "python3"
  },
  "language_info": {
   "codemirror_mode": {
    "name": "ipython",
    "version": 3
   },
   "file_extension": ".py",
   "mimetype": "text/x-python",
   "name": "python",
   "nbconvert_exporter": "python",
   "pygments_lexer": "ipython3",
   "version": "3.10.8"
  }
 },
 "nbformat": 4,
 "nbformat_minor": 5
}
